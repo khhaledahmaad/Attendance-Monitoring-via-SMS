{
 "cells": [
  {
   "cell_type": "markdown",
   "id": "ef9f118f",
   "metadata": {},
   "source": [
    "### Scope\n",
    "This notebook demonstrates how to connect to a postgresql database to read data into a dataframe."
   ]
  },
  {
   "cell_type": "code",
   "execution_count": 1,
   "id": "b92af727",
   "metadata": {},
   "outputs": [],
   "source": [
    "# Import libraries\n",
    "import os\n",
    "import pathlib\n",
    "import pandas as pd\n",
    "import psycopg2\n",
    "from configparser import ConfigParser"
   ]
  },
  {
   "cell_type": "code",
   "execution_count": 2,
   "id": "aefa8e8a",
   "metadata": {},
   "outputs": [],
   "source": [
    "# Set paths\n",
    "\n",
    "# Path to all data directories\n",
    "data = pathlib.Path(r'C:\\Users\\ahmedk40\\Documents\\GitHub\\Attendance-Monitoring-via-SMS\\data')\n",
    "\n",
    "# Path to raw data\n",
    "raw = data/'raw'\n",
    "\n",
    "# Path to processed data\n",
    "processed = data/'processed'\n",
    "\n",
    "# Path to environment variables\n",
    "env_vars = pathlib.Path(r'C:\\Users\\ahmedk40\\Documents\\GitHub\\Attendance-Monitoring-via-SMS\\env vars')"
   ]
  },
  {
   "cell_type": "code",
   "execution_count": 3,
   "id": "a0668080",
   "metadata": {},
   "outputs": [],
   "source": [
    "# create a parser\n",
    "parser = ConfigParser()\n",
    "\n",
    "\"\"\"\n",
    "The following section reads a config file to load postgresql database credentials saved in a 'config.ini' file\n",
    "\"\"\"\n",
    "\n",
    "# read config file\n",
    "parser.read(env_vars/'database.ini')\n",
    "\n",
    "# get section, default to postgresql and append the database credentials into a dictionary\n",
    "conn_string = {}\n",
    "section = 'postgresql'\n",
    "if parser.has_section(section):\n",
    "    params = parser.items(section)\n",
    "    for param in params:\n",
    "        conn_string[param[0]] = param[1]"
   ]
  },
  {
   "cell_type": "code",
   "execution_count": 4,
   "id": "5e76c0b4",
   "metadata": {},
   "outputs": [
    {
     "name": "stdout",
     "output_type": "stream",
     "text": [
      "Connecting to the PostgreSQL database...\n",
      "PostgreSQL database version:\n",
      "('PostgreSQL 15.0 (Debian 15.0-1.pgdg110+1) on x86_64-pc-linux-gnu, compiled by gcc (Debian 10.2.1-6) 10.2.1 20210110, 64-bit',)\n"
     ]
    }
   ],
   "source": [
    "try:\n",
    "    # read connection parameters\n",
    "    params = conn_string\n",
    "\n",
    "    # connect to the PostgreSQL server\n",
    "    print('Connecting to the PostgreSQL database...')\n",
    "    conn = psycopg2.connect(**params)\n",
    "\n",
    "    # create a cursor\n",
    "    cur = conn.cursor()\n",
    "\n",
    "    # execute a statement\n",
    "    print('PostgreSQL database version:')\n",
    "    cur.execute('SELECT version()')\n",
    "    \n",
    "    # display the PostgreSQL database server version\n",
    "    db_version = cur.fetchone()\n",
    "    print(db_version)\n",
    "\n",
    "except (Exception, psycopg2.DatabaseError) as error:\n",
    "    print(error)"
   ]
  },
  {
   "cell_type": "code",
   "execution_count": 5,
   "id": "a55d1b58",
   "metadata": {},
   "outputs": [
    {
     "data": {
      "text/plain": [
       "['public', 'studentDB', 'information_schema', 'pg_catalog', 'pg_toast']"
      ]
     },
     "execution_count": 5,
     "metadata": {},
     "output_type": "execute_result"
    }
   ],
   "source": [
    "# Get all the schemas in the database\n",
    "cur.execute('SELECT schema_name FROM information_schema.schemata')\n",
    "schemas = [i[0] for i in cur.fetchall()] # A list() of schemas\n",
    "schemas"
   ]
  },
  {
   "cell_type": "code",
   "execution_count": 6,
   "id": "bb242d12",
   "metadata": {},
   "outputs": [
    {
     "data": {
      "text/plain": [
       "['studentCreds']"
      ]
     },
     "execution_count": 6,
     "metadata": {},
     "output_type": "execute_result"
    }
   ],
   "source": [
    "# Get all tables in the database\n",
    "cur.execute(\"SELECT relname FROM pg_class WHERE relkind='r'AND relname !~ '^(pg_|sql_)';\") # \"rel\" is short for relation.\n",
    "\n",
    "tables = [i[0] for i in cur.fetchall()] # A list() of tables\n",
    "tables"
   ]
  },
  {
   "cell_type": "code",
   "execution_count": 7,
   "id": "330dae2d",
   "metadata": {},
   "outputs": [
    {
     "data": {
      "text/html": [
       "<div>\n",
       "<style scoped>\n",
       "    .dataframe tbody tr th:only-of-type {\n",
       "        vertical-align: middle;\n",
       "    }\n",
       "\n",
       "    .dataframe tbody tr th {\n",
       "        vertical-align: top;\n",
       "    }\n",
       "\n",
       "    .dataframe thead th {\n",
       "        text-align: right;\n",
       "    }\n",
       "</style>\n",
       "<table border=\"1\" class=\"dataframe\">\n",
       "  <thead>\n",
       "    <tr style=\"text-align: right;\">\n",
       "      <th></th>\n",
       "      <th>id</th>\n",
       "      <th>first_name</th>\n",
       "      <th>last_name</th>\n",
       "      <th>student_id</th>\n",
       "    </tr>\n",
       "  </thead>\n",
       "  <tbody>\n",
       "    <tr>\n",
       "      <th>0</th>\n",
       "      <td>1</td>\n",
       "      <td>Khaled</td>\n",
       "      <td>Ahmed</td>\n",
       "      <td>3821656</td>\n",
       "    </tr>\n",
       "  </tbody>\n",
       "</table>\n",
       "</div>"
      ],
      "text/plain": [
       "   id first_name last_name  student_id\n",
       "0   1     Khaled     Ahmed     3821656"
      ]
     },
     "execution_count": 7,
     "metadata": {},
     "output_type": "execute_result"
    }
   ],
   "source": [
    "# Read the 'studentCreds' table from the 'studentDB' schema into a dataframe\n",
    "df = pd.read_sql('select * from \"studentDB\".\"studentCreds\";', conn)\n",
    "\n",
    "# Preview\n",
    "df.head()"
   ]
  },
  {
   "cell_type": "code",
   "execution_count": 8,
   "id": "24055f2b",
   "metadata": {},
   "outputs": [],
   "source": [
    "# Export the dataframe to a CSV file\n",
    "df.to_csv(raw/'studentCreds.csv', index=False, encoding='utf-8')"
   ]
  }
 ],
 "metadata": {
  "kernelspec": {
   "display_name": "twilio",
   "language": "python",
   "name": "twilio"
  },
  "language_info": {
   "codemirror_mode": {
    "name": "ipython",
    "version": 3
   },
   "file_extension": ".py",
   "mimetype": "text/x-python",
   "name": "python",
   "nbconvert_exporter": "python",
   "pygments_lexer": "ipython3",
   "version": "3.7.13"
  }
 },
 "nbformat": 4,
 "nbformat_minor": 5
}
