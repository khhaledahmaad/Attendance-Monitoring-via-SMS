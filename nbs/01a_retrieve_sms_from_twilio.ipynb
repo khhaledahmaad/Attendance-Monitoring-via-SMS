{
 "cells": [
  {
   "cell_type": "markdown",
   "id": "1abd8ef5",
   "metadata": {},
   "source": [
    "### Scope\n",
    "This notebook shows how to retrieve sms's from Twilio for a specific time duration"
   ]
  },
  {
   "cell_type": "code",
   "execution_count": 1,
   "id": "5d905089",
   "metadata": {},
   "outputs": [],
   "source": [
    "# Import libraries\n",
    "import os\n",
    "import pathlib\n",
    "from dotenv import load_dotenv\n",
    "import pandas as pd\n",
    "from datetime import datetime\n",
    "from twilio.rest import Client"
   ]
  },
  {
   "cell_type": "code",
   "execution_count": 2,
   "id": "aab83b80",
   "metadata": {},
   "outputs": [],
   "source": [
    "# Set paths\n",
    "\n",
    "# Path to all data directories\n",
    "data = pathlib.Path(r'C:\\Users\\ahmedk40\\Documents\\GitHub\\Attendance-Monitoring-via-SMS\\data')\n",
    "\n",
    "# Path to raw data\n",
    "raw = data/'raw'\n",
    "\n",
    "# Path to processed data\n",
    "processed = data/'processed'\n",
    "\n",
    "# Path to environment variables\n",
    "env_vars = pathlib.Path(r'C:\\Users\\ahmedk40\\Documents\\GitHub\\Attendance-Monitoring-via-SMS\\env vars')"
   ]
  },
  {
   "cell_type": "code",
   "execution_count": 3,
   "id": "c7f4e1da",
   "metadata": {},
   "outputs": [],
   "source": [
    "# Load environment variables from .env.txt file\n",
    "\n",
    "\"\"\"\n",
    "The following section reads a env file to load twilio credentials saved in a '.env' file\n",
    "\"\"\"\n",
    "load_dotenv(env_vars/\".env.txt\")\n",
    "\n",
    "# Create twilio client object\n",
    "account_sid = os.environ.get(\"TWILIO_ACCOUNT_SID\")\n",
    "auth_token = os.environ.get(\"TWILIO_AUTH_TOKEN\")\n",
    "client = Client(account_sid, auth_token)"
   ]
  },
  {
   "cell_type": "code",
   "execution_count": 4,
   "id": "cbb1991c",
   "metadata": {},
   "outputs": [],
   "source": [
    "# Retrieve sms using the client object\n",
    "messages = client.messages.list(\n",
    "    date_sent_after=datetime(2022, 11, 5, 12, 30, 0),\n",
    "    date_sent_before=datetime(2022, 11, 5, 12, 40, 0)\n",
    ")"
   ]
  },
  {
   "cell_type": "code",
   "execution_count": 5,
   "id": "2662d13b",
   "metadata": {},
   "outputs": [],
   "source": [
    "# Append the retrieved sms's to a dataframe\n",
    "d = []\n",
    "for message in messages:\n",
    "    d.append((message.from_, message.body ,message.status,message.date_sent))\n",
    "\n",
    "df = pd.DataFrame(d ,columns=['from' ,'message' ,'status' ,'date_sent'])"
   ]
  },
  {
   "cell_type": "code",
   "execution_count": 6,
   "id": "89a6f32f",
   "metadata": {},
   "outputs": [
    {
     "data": {
      "text/html": [
       "<div>\n",
       "<style scoped>\n",
       "    .dataframe tbody tr th:only-of-type {\n",
       "        vertical-align: middle;\n",
       "    }\n",
       "\n",
       "    .dataframe tbody tr th {\n",
       "        vertical-align: top;\n",
       "    }\n",
       "\n",
       "    .dataframe thead th {\n",
       "        text-align: right;\n",
       "    }\n",
       "</style>\n",
       "<table border=\"1\" class=\"dataframe\">\n",
       "  <thead>\n",
       "    <tr style=\"text-align: right;\">\n",
       "      <th></th>\n",
       "      <th>from</th>\n",
       "      <th>message</th>\n",
       "      <th>status</th>\n",
       "      <th>date_sent</th>\n",
       "    </tr>\n",
       "  </thead>\n",
       "  <tbody>\n",
       "    <tr>\n",
       "      <th>0</th>\n",
       "      <td>+447897021081</td>\n",
       "      <td>Sent from your Twilio trial account - Thanks f...</td>\n",
       "      <td>delivered</td>\n",
       "      <td>2022-11-05 12:34:01+00:00</td>\n",
       "    </tr>\n",
       "    <tr>\n",
       "      <th>1</th>\n",
       "      <td>+447440049121</td>\n",
       "      <td>hi</td>\n",
       "      <td>received</td>\n",
       "      <td>2022-11-05 12:34:01+00:00</td>\n",
       "    </tr>\n",
       "  </tbody>\n",
       "</table>\n",
       "</div>"
      ],
      "text/plain": [
       "            from                                            message  \\\n",
       "0  +447897021081  Sent from your Twilio trial account - Thanks f...   \n",
       "1  +447440049121                                                 hi   \n",
       "\n",
       "      status                 date_sent  \n",
       "0  delivered 2022-11-05 12:34:01+00:00  \n",
       "1   received 2022-11-05 12:34:01+00:00  "
      ]
     },
     "execution_count": 6,
     "metadata": {},
     "output_type": "execute_result"
    }
   ],
   "source": [
    "# Preview\n",
    "df.head()"
   ]
  },
  {
   "cell_type": "code",
   "execution_count": 7,
   "id": "7053ec07",
   "metadata": {},
   "outputs": [],
   "source": [
    "# Export the dataframe to a CSV file\n",
    "df.to_csv(raw/'smsLogs.csv', index=False, encoding='utf-8')"
   ]
  }
 ],
 "metadata": {
  "kernelspec": {
   "display_name": "Python 3.7.13 ('twilio')",
   "language": "python",
   "name": "python3"
  },
  "language_info": {
   "codemirror_mode": {
    "name": "ipython",
    "version": 3
   },
   "file_extension": ".py",
   "mimetype": "text/x-python",
   "name": "python",
   "nbconvert_exporter": "python",
   "pygments_lexer": "ipython3",
   "version": "3.7.13"
  },
  "vscode": {
   "interpreter": {
    "hash": "8772fee82389021f9a06d07f6d962e66f66440103d20066f1d4e1f6e0bed6b66"
   }
  }
 },
 "nbformat": 4,
 "nbformat_minor": 5
}
